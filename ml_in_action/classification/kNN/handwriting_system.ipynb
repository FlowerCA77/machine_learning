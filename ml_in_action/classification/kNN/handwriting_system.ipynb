{
 "cells": [
  {
   "cell_type": "code",
   "execution_count": 1,
   "metadata": {},
   "outputs": [],
   "source": [
    "import os\n",
    "import fnmatch\n",
    "from tqdm import tqdm\n",
    "\n",
    "import numpy as np\n",
    "from numpy.typing import NDArray\n",
    "\n",
    "import matplotlib.pyplot as plt"
   ]
  },
  {
   "cell_type": "code",
   "execution_count": 2,
   "metadata": {},
   "outputs": [],
   "source": [
    "import classify as kNN_classify"
   ]
  },
  {
   "cell_type": "code",
   "execution_count": 3,
   "metadata": {},
   "outputs": [],
   "source": [
    "for dirpath, dirnames, filenames in os.walk(os.getcwd()):\n",
    "    for filename in fnmatch.filter(filenames, '*:Zone.Identifier'):\n",
    "        file_path = os.path.join(dirpath, filename)\n",
    "        try:\n",
    "            os.remove(file_path)\n",
    "        except Exception:\n",
    "            pass"
   ]
  },
  {
   "cell_type": "markdown",
   "metadata": {},
   "source": [
    "# Prepare - Transfer image textfile to vector data"
   ]
  },
  {
   "cell_type": "code",
   "execution_count": 4,
   "metadata": {},
   "outputs": [],
   "source": [
    "def img2vector(filename):\n",
    "    img_vector = np.zeros((1, 1024))\n",
    "    with open(filename, 'r') as fr:\n",
    "        for i in range(32):\n",
    "            line_str = fr.readline()\n",
    "            for j in range(32):\n",
    "                img_vector[0, 32*i + j] = int(line_str[j])\n",
    "    return img_vector"
   ]
  },
  {
   "cell_type": "code",
   "execution_count": 5,
   "metadata": {},
   "outputs": [],
   "source": [
    "def plot_vector(img_vector:NDArray[1024]):\n",
    "    img_matrix = img_vector.reshape(32, 32)\n",
    "    plt.imshow(img_matrix, cmap='gray_r', interpolation='none')\n",
    "    plt.colorbar()\n",
    "    plt.show()"
   ]
  },
  {
   "cell_type": "code",
   "execution_count": 6,
   "metadata": {},
   "outputs": [
    {
     "name": "stdout",
     "output_type": "stream",
     "text": [
      "[[0. 0. 0. 0. 0. 0. 0. 0. 0. 0. ... 0. 0. 0. 0. 0. 0. 0. 0. 0. 0.]\n",
      " [0. 0. 0. 0. 0. 0. 0. 0. 0. 0. ... 1. 0. 0. 0. 0. 0. 0. 0. 0. 0.]\n",
      " [0. 0. 0. 0. 0. 0. 0. 0. 1. 1. ... 1. 1. 1. 0. 0. 0. 0. 0. 0. 0.]\n",
      " [0. 0. 0. 0. 0. 0. 0. 1. 1. 1. ... 1. 1. 1. 0. 0. 0. 0. 0. 0. 0.]\n",
      " [0. 0. 0. 0. 0. 0. 1. 1. 1. 1. ... 1. 1. 1. 1. 0. 0. 0. 0. 0. 0.]\n",
      " [0. 0. 0. 0. 0. 0. 1. 1. 1. 1. ... 1. 1. 1. 1. 0. 0. 0. 0. 0. 0.]\n",
      " [0. 0. 0. 0. 0. 0. 1. 1. 1. 1. ... 1. 1. 1. 1. 0. 0. 0. 0. 0. 0.]\n",
      " [0. 0. 0. 0. 0. 0. 1. 1. 1. 0. ... 1. 1. 1. 1. 0. 0. 0. 0. 0. 0.]\n",
      " [0. 0. 0. 0. 0. 0. 0. 1. 0. 0. ... 1. 1. 1. 1. 0. 0. 0. 0. 0. 0.]\n",
      " [0. 0. 0. 0. 0. 0. 0. 0. 0. 0. ... 1. 1. 1. 1. 0. 0. 0. 0. 0. 0.]\n",
      " ...\n",
      " [0. 0. 0. 0. 0. 0. 0. 0. 0. 0. ... 1. 1. 0. 0. 0. 0. 0. 0. 0. 0.]\n",
      " [0. 0. 0. 0. 0. 0. 0. 0. 0. 0. ... 1. 1. 0. 0. 0. 0. 0. 0. 0. 0.]\n",
      " [0. 0. 0. 0. 0. 0. 0. 0. 0. 0. ... 1. 1. 0. 0. 0. 0. 0. 0. 0. 0.]\n",
      " [0. 0. 0. 0. 0. 0. 0. 0. 0. 1. ... 1. 1. 0. 0. 0. 0. 0. 0. 0. 0.]\n",
      " [0. 0. 0. 0. 0. 0. 0. 0. 0. 1. ... 1. 1. 0. 0. 0. 0. 0. 0. 0. 0.]\n",
      " [0. 0. 0. 0. 0. 0. 0. 1. 1. 1. ... 1. 1. 0. 0. 0. 0. 0. 0. 0. 0.]\n",
      " [0. 0. 0. 0. 0. 0. 0. 1. 1. 1. ... 1. 0. 0. 0. 0. 0. 0. 0. 0. 0.]\n",
      " [0. 0. 0. 0. 0. 0. 0. 0. 1. 1. ... 0. 0. 0. 0. 0. 0. 0. 0. 0. 0.]\n",
      " [0. 0. 0. 0. 0. 0. 0. 1. 1. 1. ... 0. 0. 0. 0. 0. 0. 0. 0. 0. 0.]\n",
      " [0. 0. 0. 0. 0. 0. 0. 0. 0. 0. ... 0. 0. 0. 0. 0. 0. 0. 0. 0. 0.]]\n"
     ]
    },
    {
     "data": {
      "image/png": "[encoded data removed]",
      "text/plain": [
       "<Figure size 640x480 with 2 Axes>"
      ]
     },
     "metadata": {},
     "output_type": "display_data"
    }
   ],
   "source": [
    "np.set_printoptions(edgeitems=10)   # show more elements\n",
    "print(img2vector('testDigits/3_12.txt').reshape(32, 32))\n",
    "np.set_printoptions(edgeitems=3)    # restore to default value\n",
    "\n",
    "plot_vector(img2vector('testDigits/3_12.txt'))"
   ]
  },
  {
   "cell_type": "markdown",
   "metadata": {},
   "source": [
    "# Unit Test"
   ]
  },
  {
   "cell_type": "code",
   "execution_count": 7,
   "metadata": {},
   "outputs": [],
   "source": [
    "hw_features = []\n",
    "\n",
    "training_file_list = os.listdir('trainingDigits')\n",
    "training_sample_num = len(training_file_list)\n",
    "training_matrix = np.zeros((training_sample_num, 1024))\n",
    "\n",
    "for train_file_no in range(training_sample_num):\n",
    "    train_file_name = training_file_list[train_file_no]\n",
    "    train_file_feature = int(train_file_name.split('_')[0])\n",
    "\n",
    "    hw_features.append(train_file_feature)\n",
    "\n",
    "    training_matrix[train_file_no,:] = img2vector(\n",
    "        f'trainingDigits/{train_file_name}'\n",
    "    )"
   ]
  },
  {
   "cell_type": "code",
   "execution_count": 8,
   "metadata": {},
   "outputs": [
    {
     "name": "stderr",
     "output_type": "stream",
     "text": [
      "100%|██████████| 946/946 [06:55<00:00,  2.33it/s, error=19, total=946]"
     ]
    },
    {
     "name": "stdout",
     "output_type": "stream",
     "text": [
      "acc = 97.99%\n"
     ]
    }
   ],
   "source": [
    "error_count = np.float64(0)\n",
    "test_file_list = os.listdir('testDigits')\n",
    "test_sample_num = len(test_file_list)\n",
    "\n",
    "progress_bar = tqdm(total=test_sample_num)\n",
    "for test_file_no in range(test_sample_num):\n",
    "    test_file_name = test_file_list[test_file_no]\n",
    "    test_file_feature = int(test_file_name.split('_')[0])\n",
    "\n",
    "    test_file_data_vector = img2vector(\n",
    "        f'testDigits/{test_file_name}'\n",
    "    )\n",
    "\n",
    "    classifier_result = kNN_classify.classify(\n",
    "        test_file_data_vector[0], training_matrix, hw_features, 8\n",
    "    )\n",
    "\n",
    "    if classifier_result != test_file_feature:\n",
    "        error_count += 1.0\n",
    "    \n",
    "    progress_bar.set_postfix(error=error_count, total=test_sample_num)\n",
    "    progress_bar.update(1)\n",
    "\n",
    "error_rate = np.divide(error_count, np.float64(test_sample_num))\n",
    "acc = np.subtract(np.float64(1), error_rate)\n",
    "\n",
    "print(f'acc = {100*acc:.2f}%')"
   ]
  },
  {
   "cell_type": "markdown",
   "metadata": {},
   "source": [
    "# Identify an image"
   ]
  },
  {
   "cell_type": "code",
   "execution_count": 9,
   "metadata": {},
   "outputs": [
    {
     "data": {
      "image/jpeg": "[encoded data removed]",
      "image/png": "[encoded data removed]",
      "text/plain": [
       "<PIL.PngImagePlugin.PngImageFile image mode=L size=128x128>"
      ]
     },
     "metadata": {},
     "output_type": "display_data"
    }
   ],
   "source": [
    "from PIL import Image\n",
    "\n",
    "with Image.open('imageDigits/4_6.png') as img:\n",
    "    img.show()"
   ]
  },
  {
   "cell_type": "code",
   "execution_count": 10,
   "metadata": {},
   "outputs": [],
   "source": [
    "def png2mat(filepath):\n",
    "    with Image.open(filepath).convert('L') as pngfile:\n",
    "        gray_matrix = np.array(pngfile.resize((32, 32)))\n",
    "    binary_matrix = np.where(gray_matrix < 96, 1., 0.)\n",
    "    return binary_matrix"
   ]
  },
  {
   "cell_type": "code",
   "execution_count": 11,
   "metadata": {},
   "outputs": [
    {
     "data": {
      "image/png": "[encoded data removed]",
      "text/plain": [
       "<Figure size 640x480 with 2 Axes>"
      ]
     },
     "metadata": {},
     "output_type": "display_data"
    },
    {
     "data": {
      "image/png": "[encoded data removed]",
      "text/plain": [
       "<Figure size 640x480 with 2 Axes>"
      ]
     },
     "metadata": {},
     "output_type": "display_data"
    }
   ],
   "source": [
    "plot_vector(img2vector('testDigits/4_6.txt'))\n",
    "plot_vector(png2mat('imageDigits/4_6.png'))"
   ]
  },
  {
   "cell_type": "code",
   "execution_count": 12,
   "metadata": {},
   "outputs": [
    {
     "name": "stdout",
     "output_type": "stream",
     "text": [
      "[[0. 0. 0. ... 0. 0. 0.]\n",
      " [0. 0. 0. ... 0. 0. 0.]\n",
      " [0. 0. 0. ... 0. 0. 0.]\n",
      " ...\n",
      " [0. 0. 0. ... 0. 0. 0.]\n",
      " [0. 0. 0. ... 0. 0. 0.]\n",
      " [0. 0. 0. ... 0. 0. 0.]]\n",
      "[[0. 0. 0. ... 0. 0. 0.]\n",
      " [0. 0. 0. ... 0. 0. 0.]\n",
      " [0. 0. 0. ... 0. 0. 0.]\n",
      " ...\n",
      " [0. 0. 0. ... 0. 0. 0.]\n",
      " [0. 0. 0. ... 0. 0. 0.]\n",
      " [0. 0. 0. ... 0. 0. 0.]]\n"
     ]
    }
   ],
   "source": [
    "print(png2mat('imageDigits/4_6.png'))\n",
    "print(img2vector('testDigits/4_6.txt').reshape(32, 32))"
   ]
  },
  {
   "cell_type": "code",
   "execution_count": 13,
   "metadata": {},
   "outputs": [
    {
     "name": "stdout",
     "output_type": "stream",
     "text": [
      "  1/ 90: file 5_5.png was be identified as 5\n",
      "  2/ 90: file 5_9.png was be identified as 5\n",
      "  3/ 90: file 3_4.png was be identified as 3\n",
      "  4/ 90: file 7_1.png was be identified as 7\n",
      "  5/ 90: file 9_9.png was be identified as 9\n",
      "  6/ 90: file 6_5.png was be identified as 6\n",
      "  7/ 90: file 1_6.png was be identified as 1\n",
      "  8/ 90: file 9_7.png was be identified as 9\n",
      "  9/ 90: file 8_9.png was be identified as 8\n",
      " 10/ 90: file 5_6.png was be identified as 5\n",
      " 11/ 90: file 7_8.png was be identified as 7\n",
      " 12/ 90: file 7_4.png was be identified as 7\n",
      " 13/ 90: file 4_5.png was be identified as 4\n",
      " 14/ 90: file 9_2.png was be identified as 9\n",
      " 15/ 90: file 6_8.png was be identified as 6\n",
      " 16/ 90: file 4_4.png was be identified as 4\n",
      " 17/ 90: file 5_1.png was be identified as 5\n",
      " 18/ 90: file 1_7.png was be identified as 1\n",
      " 19/ 90: file 3_7.png was be identified as 3\n",
      " 20/ 90: file 1_2.png was be identified as 1\n",
      " 21/ 90: file 0_7.png was be identified as 0\n",
      " 22/ 90: file 5_3.png was be identified as 5\n",
      " 23/ 90: file 9_3.png was be identified as 9\n",
      " 24/ 90: file 7_3.png was be identified as 7\n",
      " 25/ 90: file 7_2.png was be identified as 7\n",
      " 26/ 90: file 2_5.png was be identified as 2\n",
      " 27/ 90: file 0_5.png was be identified as 0\n",
      " 28/ 90: file 6_6.png was be identified as 6\n",
      " 29/ 90: file 1_3.png was be identified as 1\n",
      " 30/ 90: file 2_1.png was be identified as 2\n",
      " 31/ 90: file 3_1.png was be identified as 3\n",
      " 32/ 90: file 6_9.png was be identified as 6\n",
      " 33/ 90: file 1_4.png was be identified as 1\n",
      " 34/ 90: file 1_8.png was be identified as 1\n",
      " 35/ 90: file 2_7.png was be identified as 2\n",
      " 36/ 90: file 9_8.png was be identified as 9\n",
      " 37/ 90: file 6_4.png was be identified as 6\n",
      " 38/ 90: file 9_1.png was be identified as 9\n",
      " 39/ 90: file 3_9.png was be identified as 3\n",
      " 40/ 90: file 3_3.png was be identified as 3\n",
      " 41/ 90: file 4_2.png was be identified as 4\n",
      " 42/ 90: file 7_9.png was be identified as 7\n",
      " 43/ 90: file 6_3.png was be identified as 6\n",
      " 44/ 90: file 2_9.png was be identified as 2\n",
      " 45/ 90: file 0_8.png was be identified as 0\n",
      " 46/ 90: file 3_5.png was be identified as 3\n",
      " 47/ 90: file 3_2.png was be identified as 3\n",
      " 48/ 90: file 4_7.png was be identified as 4\n",
      " 49/ 90: file 8_3.png was be identified as 8\n",
      " 50/ 90: file 8_7.png was be identified as 8\n",
      " 51/ 90: file 7_5.png was be identified as 7\n",
      " 52/ 90: file 2_3.png was be identified as 2\n",
      " 53/ 90: file 8_5.png was be identified as 8\n",
      " 54/ 90: file 5_7.png was be identified as 5\n",
      " 55/ 90: file 2_2.png was be identified as 2\n",
      " 56/ 90: file 6_2.png was be identified as 6\n",
      " 57/ 90: file 8_1.png was be identified as 8\n",
      " 58/ 90: file 9_6.png was be identified as 9\n",
      " 59/ 90: file 5_2.png was be identified as 5\n",
      " 60/ 90: file 9_5.png was be identified as 9\n",
      " 61/ 90: file 9_4.png was be identified as 9\n",
      " 62/ 90: file 0_9.png was be identified as 0\n",
      " 63/ 90: file 0_4.png was be identified as 0\n",
      " 64/ 90: file 0_2.png was be identified as 0\n",
      " 65/ 90: file 2_4.png was be identified as 2\n",
      " 66/ 90: file 5_8.png was be identified as 5\n",
      " 67/ 90: file 0_1.png was be identified as 0\n",
      " 68/ 90: file 1_5.png was be identified as 1\n",
      " 69/ 90: file 8_6.png was be identified as 8\n",
      " 70/ 90: file 6_1.png was be identified as 6\n",
      " 71/ 90: file 7_6.png was be identified as 7\n",
      " 72/ 90: file 8_4.png was be identified as 8\n",
      " 73/ 90: file 2_8.png was be identified as 2\n",
      " 74/ 90: file 0_3.png was be identified as 0\n",
      " 75/ 90: file 4_9.png was be identified as 4\n",
      " 76/ 90: file 4_3.png was be identified as 4\n",
      " 77/ 90: file 3_6.png was be identified as 3\n",
      " 78/ 90: file 5_4.png was be identified as 5\n",
      " 79/ 90: file 4_1.png was be identified as 4\n",
      " 80/ 90: file 3_8.png was be identified as 3\n",
      " 81/ 90: file 8_8.png was be identified as 3\n",
      " 82/ 90: file 8_2.png was be identified as 8\n",
      " 83/ 90: file 6_7.png was be identified as 6\n",
      " 84/ 90: file 4_8.png was be identified as 4\n",
      " 85/ 90: file 1_9.png was be identified as 1\n",
      " 86/ 90: file 1_1.png was be identified as 1\n",
      " 87/ 90: file 2_6.png was be identified as 2\n",
      " 88/ 90: file 0_6.png was be identified as 0\n",
      " 89/ 90: file 4_6.png was be identified as 4\n",
      " 90/ 90: file 7_7.png was be identified as 7\n"
     ]
    }
   ],
   "source": [
    "image_list = os.listdir('imageDigits')\n",
    "image_num = len(image_list)\n",
    "\n",
    "for image_no in range(image_num):\n",
    "    image_name = image_list[image_no]\n",
    "    image_vector = png2mat(\n",
    "        f'imageDigits/{image_name}'\n",
    "    )\n",
    "\n",
    "    classifier_result = kNN_classify.classify(\n",
    "        image_vector.flatten(), training_matrix, hw_features, 8\n",
    "    )\n",
    "\n",
    "    print(\n",
    "        f'{image_no+1:>3}/{image_num:>3}:' + ' '\n",
    "        f'file {image_name} was be identified as {classifier_result}'\n",
    "    )"
   ]
  }
 ],
 "metadata": {
  "kernelspec": {
   "display_name": "ai_datasci_env",
   "language": "python",
   "name": "python3"
  },
  "language_info": {
   "codemirror_mode": {
    "name": "ipython",
    "version": 3
   },
   "file_extension": ".py",
   "mimetype": "text/x-python",
   "name": "python",
   "nbconvert_exporter": "python",
   "pygments_lexer": "ipython3",
   "version": "3.12.5"
  }
 },
 "nbformat": 4,
 "nbformat_minor": 2
}
