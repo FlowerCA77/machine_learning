{
 "cells": [
  {
   "cell_type": "code",
   "execution_count": 1,
   "metadata": {},
   "outputs": [],
   "source": [
    "import os\n",
    "from IPython.display import display, clear_output\n",
    "from tqdm import tqdm\n",
    "\n",
    "import numpy as np\n",
    "from numpy.typing import NDArray\n",
    "\n",
    "import matplotlib.pyplot as plt"
   ]
  },
  {
   "cell_type": "code",
   "execution_count": 2,
   "metadata": {},
   "outputs": [],
   "source": [
    "import classify as kNN_classify"
   ]
  },
  {
   "cell_type": "markdown",
   "metadata": {},
   "source": [
    "# Prepare - Transfer image textfile to vector data"
   ]
  },
  {
   "cell_type": "code",
   "execution_count": 3,
   "metadata": {},
   "outputs": [],
   "source": [
    "def img2vector(filename):\n",
    "    img_vector = np.zeros((1, 1024))\n",
    "    with open(filename, 'r') as fr:\n",
    "        for i in range(32):\n",
    "            line_str = fr.readline()\n",
    "            for j in range(32):\n",
    "                img_vector[0, 32*i + j] = int(line_str[j])\n",
    "    return img_vector"
   ]
  },
  {
   "cell_type": "code",
   "execution_count": 4,
   "metadata": {},
   "outputs": [],
   "source": [
    "def plot_vector(img_vector:NDArray[1024]):\n",
    "    img_matrix = img_vector.reshape(32, 32)\n",
    "    plt.imshow(img_matrix, cmap='gray_r', interpolation='none')\n",
    "    plt.colorbar()\n",
    "    plt.show()"
   ]
  },
  {
   "cell_type": "code",
   "execution_count": 5,
   "metadata": {},
   "outputs": [
    {
     "name": "stdout",
     "output_type": "stream",
     "text": [
      "[[0. 0. 0. 0. 0. 0. 0. 0. 0. 0. ... 0. 0. 0. 0. 0. 0. 0. 0. 0. 0.]\n",
      " [0. 0. 0. 0. 0. 0. 0. 0. 0. 0. ... 1. 0. 0. 0. 0. 0. 0. 0. 0. 0.]\n",
      " [0. 0. 0. 0. 0. 0. 0. 0. 1. 1. ... 1. 1. 1. 0. 0. 0. 0. 0. 0. 0.]\n",
      " [0. 0. 0. 0. 0. 0. 0. 1. 1. 1. ... 1. 1. 1. 0. 0. 0. 0. 0. 0. 0.]\n",
      " [0. 0. 0. 0. 0. 0. 1. 1. 1. 1. ... 1. 1. 1. 1. 0. 0. 0. 0. 0. 0.]\n",
      " [0. 0. 0. 0. 0. 0. 1. 1. 1. 1. ... 1. 1. 1. 1. 0. 0. 0. 0. 0. 0.]\n",
      " [0. 0. 0. 0. 0. 0. 1. 1. 1. 1. ... 1. 1. 1. 1. 0. 0. 0. 0. 0. 0.]\n",
      " [0. 0. 0. 0. 0. 0. 1. 1. 1. 0. ... 1. 1. 1. 1. 0. 0. 0. 0. 0. 0.]\n",
      " [0. 0. 0. 0. 0. 0. 0. 1. 0. 0. ... 1. 1. 1. 1. 0. 0. 0. 0. 0. 0.]\n",
      " [0. 0. 0. 0. 0. 0. 0. 0. 0. 0. ... 1. 1. 1. 1. 0. 0. 0. 0. 0. 0.]\n",
      " ...\n",
      " [0. 0. 0. 0. 0. 0. 0. 0. 0. 0. ... 1. 1. 0. 0. 0. 0. 0. 0. 0. 0.]\n",
      " [0. 0. 0. 0. 0. 0. 0. 0. 0. 0. ... 1. 1. 0. 0. 0. 0. 0. 0. 0. 0.]\n",
      " [0. 0. 0. 0. 0. 0. 0. 0. 0. 0. ... 1. 1. 0. 0. 0. 0. 0. 0. 0. 0.]\n",
      " [0. 0. 0. 0. 0. 0. 0. 0. 0. 1. ... 1. 1. 0. 0. 0. 0. 0. 0. 0. 0.]\n",
      " [0. 0. 0. 0. 0. 0. 0. 0. 0. 1. ... 1. 1. 0. 0. 0. 0. 0. 0. 0. 0.]\n",
      " [0. 0. 0. 0. 0. 0. 0. 1. 1. 1. ... 1. 1. 0. 0. 0. 0. 0. 0. 0. 0.]\n",
      " [0. 0. 0. 0. 0. 0. 0. 1. 1. 1. ... 1. 0. 0. 0. 0. 0. 0. 0. 0. 0.]\n",
      " [0. 0. 0. 0. 0. 0. 0. 0. 1. 1. ... 0. 0. 0. 0. 0. 0. 0. 0. 0. 0.]\n",
      " [0. 0. 0. 0. 0. 0. 0. 1. 1. 1. ... 0. 0. 0. 0. 0. 0. 0. 0. 0. 0.]\n",
      " [0. 0. 0. 0. 0. 0. 0. 0. 0. 0. ... 0. 0. 0. 0. 0. 0. 0. 0. 0. 0.]]\n"
     ]
    },
    {
     "data": {
      "image/png": "[encoded data removed]",
      "text/plain": [
       "<Figure size 640x480 with 2 Axes>"
      ]
     },
     "metadata": {},
     "output_type": "display_data"
    }
   ],
   "source": [
    "np.set_printoptions(edgeitems=10)   # show more elements\n",
    "print(img2vector('testDigits/3_12.txt').reshape(32, 32))\n",
    "np.set_printoptions(edgeitems=3)    # restore to default value\n",
    "\n",
    "plot_vector(img2vector('testDigits/3_12.txt'))"
   ]
  },
  {
   "cell_type": "markdown",
   "metadata": {},
   "source": [
    "# Unit Test"
   ]
  },
  {
   "cell_type": "code",
   "execution_count": 6,
   "metadata": {},
   "outputs": [],
   "source": [
    "hw_features = []\n",
    "\n",
    "training_file_list = os.listdir('trainingDigits')\n",
    "training_sample_num = len(training_file_list)\n",
    "training_matrix = np.zeros((training_sample_num, 1024))\n",
    "\n",
    "for train_file_no in range(training_sample_num):\n",
    "    train_file_name = training_file_list[train_file_no]\n",
    "    train_file_feature = int(train_file_name.split('_')[0])\n",
    "\n",
    "    hw_features.append(train_file_feature)\n",
    "\n",
    "    training_matrix[train_file_no,:] = img2vector(\n",
    "        f'trainingDigits/{train_file_name}'\n",
    "    )"
   ]
  },
  {
   "cell_type": "code",
   "execution_count": 7,
   "metadata": {},
   "outputs": [
    {
     "name": "stderr",
     "output_type": "stream",
     "text": [
      "100%|██████████| 946/946 [07:05<00:00,  2.22it/s, error=11, total=946]"
     ]
    },
    {
     "name": "stdout",
     "output_type": "stream",
     "text": [
      "acc = 98.84%\n"
     ]
    }
   ],
   "source": [
    "error_count = np.float64(0)\n",
    "test_file_list = os.listdir('testDigits')\n",
    "test_sample_num = len(test_file_list)\n",
    "\n",
    "progress_bar = tqdm(total=test_sample_num)\n",
    "for test_file_no in range(test_sample_num):\n",
    "    test_file_name = test_file_list[test_file_no]\n",
    "    test_file_feature = int(test_file_name.split('_')[0])\n",
    "\n",
    "    test_file_data_vector = img2vector(\n",
    "        f'testDigits/{test_file_name}'\n",
    "    )\n",
    "\n",
    "    classifier_result = kNN_classify.classify(\n",
    "        test_file_data_vector[0], training_matrix, hw_features, 3\n",
    "    )\n",
    "\n",
    "    if classifier_result != test_file_feature:\n",
    "        error_count += 1.0\n",
    "    \n",
    "    progress_bar.set_postfix(error=error_count, total=test_sample_num)\n",
    "    progress_bar.update(1)\n",
    "\n",
    "error_rate = np.divide(error_count, np.float64(test_sample_num))\n",
    "acc = np.subtract(np.float64(1), error_rate)\n",
    "\n",
    "print(f'acc = {100*acc:.2f}%')"
   ]
  }
 ],
 "metadata": {
  "kernelspec": {
   "display_name": "ai_datasci_env",
   "language": "python",
   "name": "python3"
  },
  "language_info": {
   "codemirror_mode": {
    "name": "ipython",
    "version": 3
   },
   "file_extension": ".py",
   "mimetype": "text/x-python",
   "name": "python",
   "nbconvert_exporter": "python",
   "pygments_lexer": "ipython3",
   "version": "3.12.5"
  }
 },
 "nbformat": 4,
 "nbformat_minor": 2
}
